{
  "cells": [
    {
      "cell_type": "code",
      "execution_count": null,
      "metadata": {
        "id": "gqpPYaH5MPGb"
      },
      "outputs": [],
      "source": [
        "#necessary libraries\n",
        "import pandas as pd\n",
        "import numpy as np\n",
        "import seaborn as sns\n",
        "import matplotlib.pyplot as plt\n",
        "import plotly.express as px\n",
        "from plotly.subplots import make_subplots\n",
        "import plotly.graph_objects as go\n",
        "from sklearn.impute import SimpleImputer\n",
        "from scipy.io.arff import loadarff"
      ]
    },
    {
      "cell_type": "code",
      "execution_count": null,
      "metadata": {
        "id": "GVItpxbeMfXb"
      },
      "outputs": [],
      "source": [
        "ch = pd.read_csv(\"/content/Toddler Autism dataset1 (1).csv\")"
      ]
    },
    {
      "cell_type": "code",
      "source": [
        "ch.shape"
      ],
      "metadata": {
        "colab": {
          "base_uri": "https://localhost:8080/"
        },
        "id": "6bk8lTquE4Yu",
        "outputId": "c2edae3f-4137-4cd4-aef7-591668165406"
      },
      "execution_count": null,
      "outputs": [
        {
          "output_type": "execute_result",
          "data": {
            "text/plain": [
              "(1054, 19)"
            ]
          },
          "metadata": {},
          "execution_count": 3
        }
      ]
    },
    {
      "cell_type": "code",
      "execution_count": null,
      "metadata": {
        "colab": {
          "base_uri": "https://localhost:8080/",
          "height": 374
        },
        "id": "-7Iy_-M7Mv-p",
        "outputId": "cffb1b5a-76b0-4540-e3ec-bd2363f58d93"
      },
      "outputs": [
        {
          "output_type": "execute_result",
          "data": {
            "text/plain": [
              "   Case_No  A1  A2  A3  A4  A5  A6  A7  A8  A9  A10  Age_Mons  Qchat-10-Score  \\\n",
              "0        1   0   0   0   0   0   0   1   1   0    1        28               3   \n",
              "1        2   1   1   0   0   0   1   1   0   0    0        36               4   \n",
              "2        3   1   0   0   0   0   0   1   1   0    1        36               4   \n",
              "3        4   1   1   1   1   1   1   1   1   1    1        24              10   \n",
              "4        5   1   1   0   1   1   1   1   1   1    1        20               9   \n",
              "\n",
              "  Sex       Ethnicity Jaundice Family_mem_with_ASD who_completed_the_test  \\\n",
              "0   f  middle eastern      yes                  no          family member   \n",
              "1   m  White European      yes                  no          family member   \n",
              "2   m  middle eastern      yes                  no          family member   \n",
              "3   m        Hispanic       no                  no          family member   \n",
              "4   f  White European       no                 yes          family member   \n",
              "\n",
              "  Class  \n",
              "0    No  \n",
              "1   Yes  \n",
              "2   Yes  \n",
              "3   Yes  \n",
              "4   Yes  "
            ],
            "text/html": [
              "\n",
              "  <div id=\"df-970c82c4-7814-4b46-a0ec-c9edaf656e37\">\n",
              "    <div class=\"colab-df-container\">\n",
              "      <div>\n",
              "<style scoped>\n",
              "    .dataframe tbody tr th:only-of-type {\n",
              "        vertical-align: middle;\n",
              "    }\n",
              "\n",
              "    .dataframe tbody tr th {\n",
              "        vertical-align: top;\n",
              "    }\n",
              "\n",
              "    .dataframe thead th {\n",
              "        text-align: right;\n",
              "    }\n",
              "</style>\n",
              "<table border=\"1\" class=\"dataframe\">\n",
              "  <thead>\n",
              "    <tr style=\"text-align: right;\">\n",
              "      <th></th>\n",
              "      <th>Case_No</th>\n",
              "      <th>A1</th>\n",
              "      <th>A2</th>\n",
              "      <th>A3</th>\n",
              "      <th>A4</th>\n",
              "      <th>A5</th>\n",
              "      <th>A6</th>\n",
              "      <th>A7</th>\n",
              "      <th>A8</th>\n",
              "      <th>A9</th>\n",
              "      <th>A10</th>\n",
              "      <th>Age_Mons</th>\n",
              "      <th>Qchat-10-Score</th>\n",
              "      <th>Sex</th>\n",
              "      <th>Ethnicity</th>\n",
              "      <th>Jaundice</th>\n",
              "      <th>Family_mem_with_ASD</th>\n",
              "      <th>who_completed_the_test</th>\n",
              "      <th>Class</th>\n",
              "    </tr>\n",
              "  </thead>\n",
              "  <tbody>\n",
              "    <tr>\n",
              "      <th>0</th>\n",
              "      <td>1</td>\n",
              "      <td>0</td>\n",
              "      <td>0</td>\n",
              "      <td>0</td>\n",
              "      <td>0</td>\n",
              "      <td>0</td>\n",
              "      <td>0</td>\n",
              "      <td>1</td>\n",
              "      <td>1</td>\n",
              "      <td>0</td>\n",
              "      <td>1</td>\n",
              "      <td>28</td>\n",
              "      <td>3</td>\n",
              "      <td>f</td>\n",
              "      <td>middle eastern</td>\n",
              "      <td>yes</td>\n",
              "      <td>no</td>\n",
              "      <td>family member</td>\n",
              "      <td>No</td>\n",
              "    </tr>\n",
              "    <tr>\n",
              "      <th>1</th>\n",
              "      <td>2</td>\n",
              "      <td>1</td>\n",
              "      <td>1</td>\n",
              "      <td>0</td>\n",
              "      <td>0</td>\n",
              "      <td>0</td>\n",
              "      <td>1</td>\n",
              "      <td>1</td>\n",
              "      <td>0</td>\n",
              "      <td>0</td>\n",
              "      <td>0</td>\n",
              "      <td>36</td>\n",
              "      <td>4</td>\n",
              "      <td>m</td>\n",
              "      <td>White European</td>\n",
              "      <td>yes</td>\n",
              "      <td>no</td>\n",
              "      <td>family member</td>\n",
              "      <td>Yes</td>\n",
              "    </tr>\n",
              "    <tr>\n",
              "      <th>2</th>\n",
              "      <td>3</td>\n",
              "      <td>1</td>\n",
              "      <td>0</td>\n",
              "      <td>0</td>\n",
              "      <td>0</td>\n",
              "      <td>0</td>\n",
              "      <td>0</td>\n",
              "      <td>1</td>\n",
              "      <td>1</td>\n",
              "      <td>0</td>\n",
              "      <td>1</td>\n",
              "      <td>36</td>\n",
              "      <td>4</td>\n",
              "      <td>m</td>\n",
              "      <td>middle eastern</td>\n",
              "      <td>yes</td>\n",
              "      <td>no</td>\n",
              "      <td>family member</td>\n",
              "      <td>Yes</td>\n",
              "    </tr>\n",
              "    <tr>\n",
              "      <th>3</th>\n",
              "      <td>4</td>\n",
              "      <td>1</td>\n",
              "      <td>1</td>\n",
              "      <td>1</td>\n",
              "      <td>1</td>\n",
              "      <td>1</td>\n",
              "      <td>1</td>\n",
              "      <td>1</td>\n",
              "      <td>1</td>\n",
              "      <td>1</td>\n",
              "      <td>1</td>\n",
              "      <td>24</td>\n",
              "      <td>10</td>\n",
              "      <td>m</td>\n",
              "      <td>Hispanic</td>\n",
              "      <td>no</td>\n",
              "      <td>no</td>\n",
              "      <td>family member</td>\n",
              "      <td>Yes</td>\n",
              "    </tr>\n",
              "    <tr>\n",
              "      <th>4</th>\n",
              "      <td>5</td>\n",
              "      <td>1</td>\n",
              "      <td>1</td>\n",
              "      <td>0</td>\n",
              "      <td>1</td>\n",
              "      <td>1</td>\n",
              "      <td>1</td>\n",
              "      <td>1</td>\n",
              "      <td>1</td>\n",
              "      <td>1</td>\n",
              "      <td>1</td>\n",
              "      <td>20</td>\n",
              "      <td>9</td>\n",
              "      <td>f</td>\n",
              "      <td>White European</td>\n",
              "      <td>no</td>\n",
              "      <td>yes</td>\n",
              "      <td>family member</td>\n",
              "      <td>Yes</td>\n",
              "    </tr>\n",
              "  </tbody>\n",
              "</table>\n",
              "</div>\n",
              "      <button class=\"colab-df-convert\" onclick=\"convertToInteractive('df-970c82c4-7814-4b46-a0ec-c9edaf656e37')\"\n",
              "              title=\"Convert this dataframe to an interactive table.\"\n",
              "              style=\"display:none;\">\n",
              "        \n",
              "  <svg xmlns=\"http://www.w3.org/2000/svg\" height=\"24px\"viewBox=\"0 0 24 24\"\n",
              "       width=\"24px\">\n",
              "    <path d=\"M0 0h24v24H0V0z\" fill=\"none\"/>\n",
              "    <path d=\"M18.56 5.44l.94 2.06.94-2.06 2.06-.94-2.06-.94-.94-2.06-.94 2.06-2.06.94zm-11 1L8.5 8.5l.94-2.06 2.06-.94-2.06-.94L8.5 2.5l-.94 2.06-2.06.94zm10 10l.94 2.06.94-2.06 2.06-.94-2.06-.94-.94-2.06-.94 2.06-2.06.94z\"/><path d=\"M17.41 7.96l-1.37-1.37c-.4-.4-.92-.59-1.43-.59-.52 0-1.04.2-1.43.59L10.3 9.45l-7.72 7.72c-.78.78-.78 2.05 0 2.83L4 21.41c.39.39.9.59 1.41.59.51 0 1.02-.2 1.41-.59l7.78-7.78 2.81-2.81c.8-.78.8-2.07 0-2.86zM5.41 20L4 18.59l7.72-7.72 1.47 1.35L5.41 20z\"/>\n",
              "  </svg>\n",
              "      </button>\n",
              "      \n",
              "  <style>\n",
              "    .colab-df-container {\n",
              "      display:flex;\n",
              "      flex-wrap:wrap;\n",
              "      gap: 12px;\n",
              "    }\n",
              "\n",
              "    .colab-df-convert {\n",
              "      background-color: #E8F0FE;\n",
              "      border: none;\n",
              "      border-radius: 50%;\n",
              "      cursor: pointer;\n",
              "      display: none;\n",
              "      fill: #1967D2;\n",
              "      height: 32px;\n",
              "      padding: 0 0 0 0;\n",
              "      width: 32px;\n",
              "    }\n",
              "\n",
              "    .colab-df-convert:hover {\n",
              "      background-color: #E2EBFA;\n",
              "      box-shadow: 0px 1px 2px rgba(60, 64, 67, 0.3), 0px 1px 3px 1px rgba(60, 64, 67, 0.15);\n",
              "      fill: #174EA6;\n",
              "    }\n",
              "\n",
              "    [theme=dark] .colab-df-convert {\n",
              "      background-color: #3B4455;\n",
              "      fill: #D2E3FC;\n",
              "    }\n",
              "\n",
              "    [theme=dark] .colab-df-convert:hover {\n",
              "      background-color: #434B5C;\n",
              "      box-shadow: 0px 1px 3px 1px rgba(0, 0, 0, 0.15);\n",
              "      filter: drop-shadow(0px 1px 2px rgba(0, 0, 0, 0.3));\n",
              "      fill: #FFFFFF;\n",
              "    }\n",
              "  </style>\n",
              "\n",
              "      <script>\n",
              "        const buttonEl =\n",
              "          document.querySelector('#df-970c82c4-7814-4b46-a0ec-c9edaf656e37 button.colab-df-convert');\n",
              "        buttonEl.style.display =\n",
              "          google.colab.kernel.accessAllowed ? 'block' : 'none';\n",
              "\n",
              "        async function convertToInteractive(key) {\n",
              "          const element = document.querySelector('#df-970c82c4-7814-4b46-a0ec-c9edaf656e37');\n",
              "          const dataTable =\n",
              "            await google.colab.kernel.invokeFunction('convertToInteractive',\n",
              "                                                     [key], {});\n",
              "          if (!dataTable) return;\n",
              "\n",
              "          const docLinkHtml = 'Like what you see? Visit the ' +\n",
              "            '<a target=\"_blank\" href=https://colab.research.google.com/notebooks/data_table.ipynb>data table notebook</a>'\n",
              "            + ' to learn more about interactive tables.';\n",
              "          element.innerHTML = '';\n",
              "          dataTable['output_type'] = 'display_data';\n",
              "          await google.colab.output.renderOutput(dataTable, element);\n",
              "          const docLink = document.createElement('div');\n",
              "          docLink.innerHTML = docLinkHtml;\n",
              "          element.appendChild(docLink);\n",
              "        }\n",
              "      </script>\n",
              "    </div>\n",
              "  </div>\n",
              "  "
            ]
          },
          "metadata": {},
          "execution_count": 4
        }
      ],
      "source": [
        "ch.head()"
      ]
    },
    {
      "cell_type": "code",
      "execution_count": null,
      "metadata": {
        "colab": {
          "base_uri": "https://localhost:8080/"
        },
        "id": "qeolo5GEM45P",
        "outputId": "2642e14b-c974-4e43-902c-78eabcfbf019"
      },
      "outputs": [
        {
          "output_type": "execute_result",
          "data": {
            "text/plain": [
              "Case_No                   0\n",
              "A1                        0\n",
              "A2                        0\n",
              "A3                        0\n",
              "A4                        0\n",
              "A5                        0\n",
              "A6                        0\n",
              "A7                        0\n",
              "A8                        0\n",
              "A9                        0\n",
              "A10                       0\n",
              "Age_Mons                  0\n",
              "Qchat-10-Score            0\n",
              "Sex                       0\n",
              "Ethnicity                 0\n",
              "Jaundice                  0\n",
              "Family_mem_with_ASD       0\n",
              "who_completed_the_test    0\n",
              "Class                     0\n",
              "dtype: int64"
            ]
          },
          "metadata": {},
          "execution_count": 5
        }
      ],
      "source": [
        "ch.isnull().sum()"
      ]
    },
    {
      "cell_type": "code",
      "execution_count": null,
      "metadata": {
        "colab": {
          "base_uri": "https://localhost:8080/"
        },
        "id": "1EHjTymDdaRh",
        "outputId": "38967894-a569-4728-d890-d2389ddeb0bc"
      },
      "outputs": [
        {
          "output_type": "execute_result",
          "data": {
            "text/plain": [
              "0"
            ]
          },
          "metadata": {},
          "execution_count": 6
        }
      ],
      "source": [
        "#total Missing values\n",
        "ch.isnull().sum().sum()"
      ]
    },
    {
      "cell_type": "code",
      "execution_count": null,
      "metadata": {
        "colab": {
          "base_uri": "https://localhost:8080/"
        },
        "id": "cUjdTZwsNE8E",
        "outputId": "e1e54259-f841-4ca3-af3e-04ef5f1c505a"
      },
      "outputs": [
        {
          "output_type": "stream",
          "name": "stdout",
          "text": [
            "<class 'pandas.core.frame.DataFrame'>\n",
            "RangeIndex: 1054 entries, 0 to 1053\n",
            "Data columns (total 19 columns):\n",
            " #   Column                  Non-Null Count  Dtype \n",
            "---  ------                  --------------  ----- \n",
            " 0   Case_No                 1054 non-null   int64 \n",
            " 1   A1                      1054 non-null   int64 \n",
            " 2   A2                      1054 non-null   int64 \n",
            " 3   A3                      1054 non-null   int64 \n",
            " 4   A4                      1054 non-null   int64 \n",
            " 5   A5                      1054 non-null   int64 \n",
            " 6   A6                      1054 non-null   int64 \n",
            " 7   A7                      1054 non-null   int64 \n",
            " 8   A8                      1054 non-null   int64 \n",
            " 9   A9                      1054 non-null   int64 \n",
            " 10  A10                     1054 non-null   int64 \n",
            " 11  Age_Mons                1054 non-null   int64 \n",
            " 12  Qchat-10-Score          1054 non-null   int64 \n",
            " 13  Sex                     1054 non-null   object\n",
            " 14  Ethnicity               1054 non-null   object\n",
            " 15  Jaundice                1054 non-null   object\n",
            " 16  Family_mem_with_ASD     1054 non-null   object\n",
            " 17  who_completed_the_test  1054 non-null   object\n",
            " 18  Class                   1054 non-null   object\n",
            "dtypes: int64(13), object(6)\n",
            "memory usage: 156.6+ KB\n"
          ]
        }
      ],
      "source": [
        "ch.info()"
      ]
    },
    {
      "cell_type": "code",
      "execution_count": null,
      "metadata": {
        "colab": {
          "base_uri": "https://localhost:8080/",
          "height": 382
        },
        "id": "UMd5wvg2NM-2",
        "outputId": "d7183e92-a9f5-4c5c-fd19-2eedccdb3d5c"
      },
      "outputs": [
        {
          "output_type": "execute_result",
          "data": {
            "text/plain": [
              "           Case_No           A1           A2           A3           A4  \\\n",
              "count  1054.000000  1054.000000  1054.000000  1054.000000  1054.000000   \n",
              "mean    527.500000     0.563567     0.448767     0.401328     0.512334   \n",
              "std     304.407895     0.496178     0.497604     0.490400     0.500085   \n",
              "min       1.000000     0.000000     0.000000     0.000000     0.000000   \n",
              "25%     264.250000     0.000000     0.000000     0.000000     0.000000   \n",
              "50%     527.500000     1.000000     0.000000     0.000000     1.000000   \n",
              "75%     790.750000     1.000000     1.000000     1.000000     1.000000   \n",
              "max    1054.000000     1.000000     1.000000     1.000000     1.000000   \n",
              "\n",
              "                A5           A6           A7           A8           A9  \\\n",
              "count  1054.000000  1054.000000  1054.000000  1054.000000  1054.000000   \n",
              "mean      0.524668     0.576850     0.649905     0.459203     0.489564   \n",
              "std       0.499628     0.494293     0.477226     0.498569     0.500128   \n",
              "min       0.000000     0.000000     0.000000     0.000000     0.000000   \n",
              "25%       0.000000     0.000000     0.000000     0.000000     0.000000   \n",
              "50%       1.000000     1.000000     1.000000     0.000000     0.000000   \n",
              "75%       1.000000     1.000000     1.000000     1.000000     1.000000   \n",
              "max       1.000000     1.000000     1.000000     1.000000     1.000000   \n",
              "\n",
              "               A10     Age_Mons  Qchat-10-Score  \n",
              "count  1054.000000  1054.000000     1054.000000  \n",
              "mean      0.586338    27.867173        5.212524  \n",
              "std       0.492723     7.980354        2.907304  \n",
              "min       0.000000    12.000000        0.000000  \n",
              "25%       0.000000    23.000000        3.000000  \n",
              "50%       1.000000    30.000000        5.000000  \n",
              "75%       1.000000    36.000000        8.000000  \n",
              "max       1.000000    36.000000       10.000000  "
            ],
            "text/html": [
              "\n",
              "  <div id=\"df-8730b434-5b95-4ca9-a721-bbc82a7111bd\">\n",
              "    <div class=\"colab-df-container\">\n",
              "      <div>\n",
              "<style scoped>\n",
              "    .dataframe tbody tr th:only-of-type {\n",
              "        vertical-align: middle;\n",
              "    }\n",
              "\n",
              "    .dataframe tbody tr th {\n",
              "        vertical-align: top;\n",
              "    }\n",
              "\n",
              "    .dataframe thead th {\n",
              "        text-align: right;\n",
              "    }\n",
              "</style>\n",
              "<table border=\"1\" class=\"dataframe\">\n",
              "  <thead>\n",
              "    <tr style=\"text-align: right;\">\n",
              "      <th></th>\n",
              "      <th>Case_No</th>\n",
              "      <th>A1</th>\n",
              "      <th>A2</th>\n",
              "      <th>A3</th>\n",
              "      <th>A4</th>\n",
              "      <th>A5</th>\n",
              "      <th>A6</th>\n",
              "      <th>A7</th>\n",
              "      <th>A8</th>\n",
              "      <th>A9</th>\n",
              "      <th>A10</th>\n",
              "      <th>Age_Mons</th>\n",
              "      <th>Qchat-10-Score</th>\n",
              "    </tr>\n",
              "  </thead>\n",
              "  <tbody>\n",
              "    <tr>\n",
              "      <th>count</th>\n",
              "      <td>1054.000000</td>\n",
              "      <td>1054.000000</td>\n",
              "      <td>1054.000000</td>\n",
              "      <td>1054.000000</td>\n",
              "      <td>1054.000000</td>\n",
              "      <td>1054.000000</td>\n",
              "      <td>1054.000000</td>\n",
              "      <td>1054.000000</td>\n",
              "      <td>1054.000000</td>\n",
              "      <td>1054.000000</td>\n",
              "      <td>1054.000000</td>\n",
              "      <td>1054.000000</td>\n",
              "      <td>1054.000000</td>\n",
              "    </tr>\n",
              "    <tr>\n",
              "      <th>mean</th>\n",
              "      <td>527.500000</td>\n",
              "      <td>0.563567</td>\n",
              "      <td>0.448767</td>\n",
              "      <td>0.401328</td>\n",
              "      <td>0.512334</td>\n",
              "      <td>0.524668</td>\n",
              "      <td>0.576850</td>\n",
              "      <td>0.649905</td>\n",
              "      <td>0.459203</td>\n",
              "      <td>0.489564</td>\n",
              "      <td>0.586338</td>\n",
              "      <td>27.867173</td>\n",
              "      <td>5.212524</td>\n",
              "    </tr>\n",
              "    <tr>\n",
              "      <th>std</th>\n",
              "      <td>304.407895</td>\n",
              "      <td>0.496178</td>\n",
              "      <td>0.497604</td>\n",
              "      <td>0.490400</td>\n",
              "      <td>0.500085</td>\n",
              "      <td>0.499628</td>\n",
              "      <td>0.494293</td>\n",
              "      <td>0.477226</td>\n",
              "      <td>0.498569</td>\n",
              "      <td>0.500128</td>\n",
              "      <td>0.492723</td>\n",
              "      <td>7.980354</td>\n",
              "      <td>2.907304</td>\n",
              "    </tr>\n",
              "    <tr>\n",
              "      <th>min</th>\n",
              "      <td>1.000000</td>\n",
              "      <td>0.000000</td>\n",
              "      <td>0.000000</td>\n",
              "      <td>0.000000</td>\n",
              "      <td>0.000000</td>\n",
              "      <td>0.000000</td>\n",
              "      <td>0.000000</td>\n",
              "      <td>0.000000</td>\n",
              "      <td>0.000000</td>\n",
              "      <td>0.000000</td>\n",
              "      <td>0.000000</td>\n",
              "      <td>12.000000</td>\n",
              "      <td>0.000000</td>\n",
              "    </tr>\n",
              "    <tr>\n",
              "      <th>25%</th>\n",
              "      <td>264.250000</td>\n",
              "      <td>0.000000</td>\n",
              "      <td>0.000000</td>\n",
              "      <td>0.000000</td>\n",
              "      <td>0.000000</td>\n",
              "      <td>0.000000</td>\n",
              "      <td>0.000000</td>\n",
              "      <td>0.000000</td>\n",
              "      <td>0.000000</td>\n",
              "      <td>0.000000</td>\n",
              "      <td>0.000000</td>\n",
              "      <td>23.000000</td>\n",
              "      <td>3.000000</td>\n",
              "    </tr>\n",
              "    <tr>\n",
              "      <th>50%</th>\n",
              "      <td>527.500000</td>\n",
              "      <td>1.000000</td>\n",
              "      <td>0.000000</td>\n",
              "      <td>0.000000</td>\n",
              "      <td>1.000000</td>\n",
              "      <td>1.000000</td>\n",
              "      <td>1.000000</td>\n",
              "      <td>1.000000</td>\n",
              "      <td>0.000000</td>\n",
              "      <td>0.000000</td>\n",
              "      <td>1.000000</td>\n",
              "      <td>30.000000</td>\n",
              "      <td>5.000000</td>\n",
              "    </tr>\n",
              "    <tr>\n",
              "      <th>75%</th>\n",
              "      <td>790.750000</td>\n",
              "      <td>1.000000</td>\n",
              "      <td>1.000000</td>\n",
              "      <td>1.000000</td>\n",
              "      <td>1.000000</td>\n",
              "      <td>1.000000</td>\n",
              "      <td>1.000000</td>\n",
              "      <td>1.000000</td>\n",
              "      <td>1.000000</td>\n",
              "      <td>1.000000</td>\n",
              "      <td>1.000000</td>\n",
              "      <td>36.000000</td>\n",
              "      <td>8.000000</td>\n",
              "    </tr>\n",
              "    <tr>\n",
              "      <th>max</th>\n",
              "      <td>1054.000000</td>\n",
              "      <td>1.000000</td>\n",
              "      <td>1.000000</td>\n",
              "      <td>1.000000</td>\n",
              "      <td>1.000000</td>\n",
              "      <td>1.000000</td>\n",
              "      <td>1.000000</td>\n",
              "      <td>1.000000</td>\n",
              "      <td>1.000000</td>\n",
              "      <td>1.000000</td>\n",
              "      <td>1.000000</td>\n",
              "      <td>36.000000</td>\n",
              "      <td>10.000000</td>\n",
              "    </tr>\n",
              "  </tbody>\n",
              "</table>\n",
              "</div>\n",
              "      <button class=\"colab-df-convert\" onclick=\"convertToInteractive('df-8730b434-5b95-4ca9-a721-bbc82a7111bd')\"\n",
              "              title=\"Convert this dataframe to an interactive table.\"\n",
              "              style=\"display:none;\">\n",
              "        \n",
              "  <svg xmlns=\"http://www.w3.org/2000/svg\" height=\"24px\"viewBox=\"0 0 24 24\"\n",
              "       width=\"24px\">\n",
              "    <path d=\"M0 0h24v24H0V0z\" fill=\"none\"/>\n",
              "    <path d=\"M18.56 5.44l.94 2.06.94-2.06 2.06-.94-2.06-.94-.94-2.06-.94 2.06-2.06.94zm-11 1L8.5 8.5l.94-2.06 2.06-.94-2.06-.94L8.5 2.5l-.94 2.06-2.06.94zm10 10l.94 2.06.94-2.06 2.06-.94-2.06-.94-.94-2.06-.94 2.06-2.06.94z\"/><path d=\"M17.41 7.96l-1.37-1.37c-.4-.4-.92-.59-1.43-.59-.52 0-1.04.2-1.43.59L10.3 9.45l-7.72 7.72c-.78.78-.78 2.05 0 2.83L4 21.41c.39.39.9.59 1.41.59.51 0 1.02-.2 1.41-.59l7.78-7.78 2.81-2.81c.8-.78.8-2.07 0-2.86zM5.41 20L4 18.59l7.72-7.72 1.47 1.35L5.41 20z\"/>\n",
              "  </svg>\n",
              "      </button>\n",
              "      \n",
              "  <style>\n",
              "    .colab-df-container {\n",
              "      display:flex;\n",
              "      flex-wrap:wrap;\n",
              "      gap: 12px;\n",
              "    }\n",
              "\n",
              "    .colab-df-convert {\n",
              "      background-color: #E8F0FE;\n",
              "      border: none;\n",
              "      border-radius: 50%;\n",
              "      cursor: pointer;\n",
              "      display: none;\n",
              "      fill: #1967D2;\n",
              "      height: 32px;\n",
              "      padding: 0 0 0 0;\n",
              "      width: 32px;\n",
              "    }\n",
              "\n",
              "    .colab-df-convert:hover {\n",
              "      background-color: #E2EBFA;\n",
              "      box-shadow: 0px 1px 2px rgba(60, 64, 67, 0.3), 0px 1px 3px 1px rgba(60, 64, 67, 0.15);\n",
              "      fill: #174EA6;\n",
              "    }\n",
              "\n",
              "    [theme=dark] .colab-df-convert {\n",
              "      background-color: #3B4455;\n",
              "      fill: #D2E3FC;\n",
              "    }\n",
              "\n",
              "    [theme=dark] .colab-df-convert:hover {\n",
              "      background-color: #434B5C;\n",
              "      box-shadow: 0px 1px 3px 1px rgba(0, 0, 0, 0.15);\n",
              "      filter: drop-shadow(0px 1px 2px rgba(0, 0, 0, 0.3));\n",
              "      fill: #FFFFFF;\n",
              "    }\n",
              "  </style>\n",
              "\n",
              "      <script>\n",
              "        const buttonEl =\n",
              "          document.querySelector('#df-8730b434-5b95-4ca9-a721-bbc82a7111bd button.colab-df-convert');\n",
              "        buttonEl.style.display =\n",
              "          google.colab.kernel.accessAllowed ? 'block' : 'none';\n",
              "\n",
              "        async function convertToInteractive(key) {\n",
              "          const element = document.querySelector('#df-8730b434-5b95-4ca9-a721-bbc82a7111bd');\n",
              "          const dataTable =\n",
              "            await google.colab.kernel.invokeFunction('convertToInteractive',\n",
              "                                                     [key], {});\n",
              "          if (!dataTable) return;\n",
              "\n",
              "          const docLinkHtml = 'Like what you see? Visit the ' +\n",
              "            '<a target=\"_blank\" href=https://colab.research.google.com/notebooks/data_table.ipynb>data table notebook</a>'\n",
              "            + ' to learn more about interactive tables.';\n",
              "          element.innerHTML = '';\n",
              "          dataTable['output_type'] = 'display_data';\n",
              "          await google.colab.output.renderOutput(dataTable, element);\n",
              "          const docLink = document.createElement('div');\n",
              "          docLink.innerHTML = docLinkHtml;\n",
              "          element.appendChild(docLink);\n",
              "        }\n",
              "      </script>\n",
              "    </div>\n",
              "  </div>\n",
              "  "
            ]
          },
          "metadata": {},
          "execution_count": 8
        }
      ],
      "source": [
        "ch.describe()"
      ]
    },
    {
      "cell_type": "code",
      "execution_count": null,
      "metadata": {
        "colab": {
          "base_uri": "https://localhost:8080/"
        },
        "id": "V2VwkpMsNeuD",
        "outputId": "eb472b39-c618-4ded-bd51-679c4d3e0520"
      },
      "outputs": [
        {
          "output_type": "execute_result",
          "data": {
            "text/plain": [
              "(1054, 19)"
            ]
          },
          "metadata": {},
          "execution_count": 9
        }
      ],
      "source": [
        "ch.shape"
      ]
    },
    {
      "cell_type": "code",
      "source": [
        "print(\"\\nNo of adult diagonised with ASD = \",len(ch[ch['Class'] == 'Yes']))\n",
        "print(\"No of adult not diagonised with ASD = \",len(ch[ch['Class'] == 'No']))"
      ],
      "metadata": {
        "colab": {
          "base_uri": "https://localhost:8080/"
        },
        "id": "tqlWtQw8g525",
        "outputId": "5441f71b-64a3-44c0-9db7-cb5c6e12b633"
      },
      "execution_count": null,
      "outputs": [
        {
          "output_type": "stream",
          "name": "stdout",
          "text": [
            "\n",
            "No of adult diagonised with ASD =  728\n",
            "No of adult not diagonised with ASD =  326\n"
          ]
        }
      ]
    },
    {
      "cell_type": "code",
      "execution_count": null,
      "metadata": {
        "colab": {
          "base_uri": "https://localhost:8080/",
          "height": 424
        },
        "id": "urIshB4ld7mR",
        "outputId": "f7d6ecde-3498-490e-daf1-e1d311421077"
      },
      "outputs": [
        {
          "output_type": "stream",
          "name": "stderr",
          "text": [
            "/usr/local/lib/python3.8/dist-packages/seaborn/_decorators.py:36: FutureWarning: Pass the following variable as a keyword arg: x. From version 0.12, the only valid positional argument will be `data`, and passing other arguments without an explicit keyword will result in an error or misinterpretation.\n",
            "  warnings.warn(\n"
          ]
        },
        {
          "output_type": "display_data",
          "data": {
            "text/plain": [
              "<Figure size 360x360 with 1 Axes>"
            ],
            "image/png": "[encoded data removed]"
          },
          "metadata": {
            "needs_background": "light"
          }
        }
      ],
      "source": [
        "fig, ax = plt.subplots(figsize=(5,5))\n",
        "sns.countplot(ch['Class'])\n",
        "ax.set_title(\"Adult dataset\",fontsize = 15)\n",
        "fig.tight_layout()"
      ]
    },
    {
      "cell_type": "code",
      "execution_count": null,
      "metadata": {
        "colab": {
          "base_uri": "https://localhost:8080/"
        },
        "id": "-XZnAvy2fHHh",
        "outputId": "8f10bbda-9e52-4ae6-926a-fb2e124cc155"
      },
      "outputs": [
        {
          "output_type": "execute_result",
          "data": {
            "text/plain": [
              "Case_No                   0\n",
              "A1                        0\n",
              "A2                        0\n",
              "A3                        0\n",
              "A4                        0\n",
              "A5                        0\n",
              "A6                        0\n",
              "A7                        0\n",
              "A8                        0\n",
              "A9                        0\n",
              "A10                       0\n",
              "Age_Mons                  0\n",
              "Qchat-10-Score            0\n",
              "Sex                       0\n",
              "Ethnicity                 0\n",
              "Jaundice                  0\n",
              "Family_mem_with_ASD       0\n",
              "who_completed_the_test    0\n",
              "Class                     0\n",
              "dtype: int64"
            ]
          },
          "metadata": {},
          "execution_count": 12
        }
      ],
      "source": [
        "ch.isnull().sum()"
      ]
    },
    {
      "cell_type": "code",
      "execution_count": null,
      "metadata": {
        "colab": {
          "base_uri": "https://localhost:8080/"
        },
        "id": "28P5IC_Of5hP",
        "outputId": "b867a8f9-8cc2-408f-fb1b-4e6503fe681a"
      },
      "outputs": [
        {
          "output_type": "execute_result",
          "data": {
            "text/plain": [
              "Case_No                   0\n",
              "A1                        0\n",
              "A2                        0\n",
              "A3                        0\n",
              "A4                        0\n",
              "A5                        0\n",
              "A6                        0\n",
              "A7                        0\n",
              "A8                        0\n",
              "A9                        0\n",
              "A10                       0\n",
              "Age_Mons                  0\n",
              "Qchat-10-Score            0\n",
              "Sex                       0\n",
              "Ethnicity                 0\n",
              "Jaundice                  0\n",
              "Family_mem_with_ASD       0\n",
              "who_completed_the_test    0\n",
              "Class                     0\n",
              "dtype: int64"
            ]
          },
          "metadata": {},
          "execution_count": 13
        }
      ],
      "source": [
        "ch.isnull().sum()"
      ]
    },
    {
      "cell_type": "code",
      "execution_count": null,
      "metadata": {
        "colab": {
          "base_uri": "https://localhost:8080/"
        },
        "id": "rYt9tZxegF9L",
        "outputId": "c28ebfb4-b90e-492b-a8e7-52c84aa4a6ae"
      },
      "outputs": [
        {
          "output_type": "stream",
          "name": "stdout",
          "text": [
            "<class 'pandas.core.frame.DataFrame'>\n",
            "RangeIndex: 1054 entries, 0 to 1053\n",
            "Data columns (total 19 columns):\n",
            " #   Column                  Non-Null Count  Dtype \n",
            "---  ------                  --------------  ----- \n",
            " 0   Case_No                 1054 non-null   int64 \n",
            " 1   A1                      1054 non-null   int64 \n",
            " 2   A2                      1054 non-null   int64 \n",
            " 3   A3                      1054 non-null   int64 \n",
            " 4   A4                      1054 non-null   int64 \n",
            " 5   A5                      1054 non-null   int64 \n",
            " 6   A6                      1054 non-null   int64 \n",
            " 7   A7                      1054 non-null   int64 \n",
            " 8   A8                      1054 non-null   int64 \n",
            " 9   A9                      1054 non-null   int64 \n",
            " 10  A10                     1054 non-null   int64 \n",
            " 11  Age_Mons                1054 non-null   int64 \n",
            " 12  Qchat-10-Score          1054 non-null   int64 \n",
            " 13  Sex                     1054 non-null   object\n",
            " 14  Ethnicity               1054 non-null   object\n",
            " 15  Jaundice                1054 non-null   object\n",
            " 16  Family_mem_with_ASD     1054 non-null   object\n",
            " 17  who_completed_the_test  1054 non-null   object\n",
            " 18  Class                   1054 non-null   object\n",
            "dtypes: int64(13), object(6)\n",
            "memory usage: 156.6+ KB\n"
          ]
        }
      ],
      "source": [
        "ch.info()"
      ]
    },
    {
      "cell_type": "code",
      "execution_count": null,
      "metadata": {
        "id": "S94jfz4BgVhO",
        "colab": {
          "base_uri": "https://localhost:8080/"
        },
        "outputId": "08165289-1789-4aba-d40b-5c09102c6d2d"
      },
      "outputs": [
        {
          "output_type": "execute_result",
          "data": {
            "text/plain": [
              "array([0, 1])"
            ]
          },
          "metadata": {},
          "execution_count": 15
        }
      ],
      "source": [
        "# Import label encoder\n",
        "from sklearn import preprocessing\n",
        "\n",
        "# label_encoder object knows how to understand word labels.\n",
        "le = preprocessing.LabelEncoder()\n",
        "\n",
        "# Encode labels in column 'species'.\n",
        "ch['Class']= le.fit_transform(ch['Class'])\n",
        "\n",
        "ch['Class'].unique()"
      ]
    },
    {
      "cell_type": "code",
      "execution_count": null,
      "metadata": {
        "id": "sofEKgXJldcu"
      },
      "outputs": [],
      "source": [
        "\n",
        "ch['Ethnicity'] = ch['Ethnicity'].astype(str)\n",
        "ch['Ethnicity']= le.fit_transform(ch['Ethnicity'])"
      ]
    },
    {
      "cell_type": "code",
      "execution_count": null,
      "metadata": {
        "id": "fcAC7vqrlhqI"
      },
      "outputs": [],
      "source": [
        "ch['Jaundice']= le.fit_transform(ch['Jaundice'])"
      ]
    },
    {
      "cell_type": "code",
      "execution_count": null,
      "metadata": {
        "id": "S1in3SrSlkP5"
      },
      "outputs": [],
      "source": [
        "\n",
        "\n",
        "ch['Family_mem_with_ASD']= le.fit_transform(ch['Family_mem_with_ASD'])"
      ]
    },
    {
      "cell_type": "code",
      "execution_count": null,
      "metadata": {
        "id": "x2Q3JN3dloIy"
      },
      "outputs": [],
      "source": [
        "ch['who_completed_the_test']= le.fit_transform(ch['who_completed_the_test'])"
      ]
    },
    {
      "cell_type": "code",
      "execution_count": null,
      "metadata": {
        "id": "haY3nQ5Ilqpf"
      },
      "outputs": [],
      "source": [
        "ch['Sex']= le.fit_transform(ch['Sex'])\n"
      ]
    },
    {
      "cell_type": "code",
      "execution_count": null,
      "metadata": {
        "colab": {
          "base_uri": "https://localhost:8080/"
        },
        "id": "3drqKsuqkJRB",
        "outputId": "57b62014-78a8-428f-8db1-6cd21224008c"
      },
      "outputs": [
        {
          "output_type": "stream",
          "name": "stdout",
          "text": [
            "<class 'pandas.core.frame.DataFrame'>\n",
            "RangeIndex: 1054 entries, 0 to 1053\n",
            "Data columns (total 19 columns):\n",
            " #   Column                  Non-Null Count  Dtype\n",
            "---  ------                  --------------  -----\n",
            " 0   Case_No                 1054 non-null   int64\n",
            " 1   A1                      1054 non-null   int64\n",
            " 2   A2                      1054 non-null   int64\n",
            " 3   A3                      1054 non-null   int64\n",
            " 4   A4                      1054 non-null   int64\n",
            " 5   A5                      1054 non-null   int64\n",
            " 6   A6                      1054 non-null   int64\n",
            " 7   A7                      1054 non-null   int64\n",
            " 8   A8                      1054 non-null   int64\n",
            " 9   A9                      1054 non-null   int64\n",
            " 10  A10                     1054 non-null   int64\n",
            " 11  Age_Mons                1054 non-null   int64\n",
            " 12  Qchat-10-Score          1054 non-null   int64\n",
            " 13  Sex                     1054 non-null   int64\n",
            " 14  Ethnicity               1054 non-null   int64\n",
            " 15  Jaundice                1054 non-null   int64\n",
            " 16  Family_mem_with_ASD     1054 non-null   int64\n",
            " 17  who_completed_the_test  1054 non-null   int64\n",
            " 18  Class                   1054 non-null   int64\n",
            "dtypes: int64(19)\n",
            "memory usage: 156.6 KB\n"
          ]
        }
      ],
      "source": [
        "ch.info()"
      ]
    },
    {
      "cell_type": "code",
      "execution_count": null,
      "metadata": {
        "id": "FfUYNGszmDDT"
      },
      "outputs": [],
      "source": [
        "import scipy.stats as stats"
      ]
    },
    {
      "cell_type": "code",
      "source": [
        "chz=stats.zscore(ch)\n",
        "chz"
      ],
      "metadata": {
        "colab": {
          "base_uri": "https://localhost:8080/",
          "height": 505
        },
        "id": "KXdc-vAflLVe",
        "outputId": "04f2a04f-426d-4d26-eac0-fa56556b8349"
      },
      "execution_count": null,
      "outputs": [
        {
          "output_type": "execute_result",
          "data": {
            "text/plain": [
              "       Case_No        A1        A2        A3        A4        A5        A6  \\\n",
              "0    -1.730408 -1.136356 -0.902282 -0.818758 -1.024980 -1.050615 -1.167574   \n",
              "1    -1.727122  0.880006  1.108300 -0.818758 -1.024980 -1.050615  0.856477   \n",
              "2    -1.723835  0.880006 -0.902282 -0.818758 -1.024980 -1.050615 -1.167574   \n",
              "3    -1.720548  0.880006  1.108300  1.221362  0.975629  0.951823  0.856477   \n",
              "4    -1.717262  0.880006  1.108300 -0.818758  0.975629  0.951823  0.856477   \n",
              "...        ...       ...       ...       ...       ...       ...       ...   \n",
              "1049  1.717262 -1.136356 -0.902282 -0.818758 -1.024980 -1.050615 -1.167574   \n",
              "1050  1.720548 -1.136356 -0.902282  1.221362  0.975629  0.951823 -1.167574   \n",
              "1051  1.723835  0.880006 -0.902282  1.221362  0.975629  0.951823  0.856477   \n",
              "1052  1.727122  0.880006 -0.902282 -0.818758 -1.024980 -1.050615 -1.167574   \n",
              "1053  1.730408  0.880006  1.108300 -0.818758 -1.024980  0.951823  0.856477   \n",
              "\n",
              "            A7        A8        A9       A10  Age_Mons  Qchat-10-Score  \\\n",
              "0     0.733952  1.085212 -0.979340  0.839941  0.016652       -0.761384   \n",
              "1     0.733952 -0.921479 -0.979340 -1.190559  1.019590       -0.417259   \n",
              "2     0.733952  1.085212 -0.979340  0.839941  1.019590       -0.417259   \n",
              "3     0.733952  1.085212  1.021095  0.839941 -0.484817        1.647488   \n",
              "4     0.733952  1.085212  1.021095  0.839941 -0.986286        1.303364   \n",
              "...        ...       ...       ...       ...       ...             ...   \n",
              "1049 -1.362486 -0.921479 -0.979340  0.839941 -0.484817       -1.449633   \n",
              "1050  0.733952 -0.921479  1.021095 -1.190559 -1.989223       -0.073135   \n",
              "1051  0.733952  1.085212  1.021095  0.839941 -1.237020        1.303364   \n",
              "1052 -1.362486  1.085212 -0.979340  0.839941 -1.111653       -0.761384   \n",
              "1053 -1.362486  1.085212  1.021095 -1.190559 -0.484817        0.270990   \n",
              "\n",
              "           Sex  Ethnicity  Jaundice  Family_mem_with_ASD  \\\n",
              "0    -1.517918   1.018735  1.630865            -0.438529   \n",
              "1     0.658797  -0.411656  1.630865            -0.438529   \n",
              "2     0.658797   1.018735  1.630865            -0.438529   \n",
              "3     0.658797  -2.795640 -0.613171            -0.438529   \n",
              "4    -1.517918  -0.411656 -0.613171             2.280351   \n",
              "...        ...        ...       ...                  ...   \n",
              "1049 -1.517918  -0.411656 -0.613171             2.280351   \n",
              "1050  0.658797   0.541938  1.630865            -0.438529   \n",
              "1051  0.658797   1.018735  1.630865            -0.438529   \n",
              "1052  0.658797  -0.411656 -0.613171             2.280351   \n",
              "1053  0.658797   0.065141  1.630865             2.280351   \n",
              "\n",
              "      who_completed_the_test     Class  \n",
              "0                   0.179503 -1.494366  \n",
              "1                   0.179503  0.669180  \n",
              "2                   0.179503  0.669180  \n",
              "3                   0.179503  0.669180  \n",
              "4                   0.179503  0.669180  \n",
              "...                      ...       ...  \n",
              "1049                0.179503 -1.494366  \n",
              "1050                0.179503  0.669180  \n",
              "1051                0.179503  0.669180  \n",
              "1052                0.179503 -1.494366  \n",
              "1053                0.179503  0.669180  \n",
              "\n",
              "[1054 rows x 19 columns]"
            ],
            "text/html": [
              "\n",
              "  <div id=\"df-53a3ac7a-2f2e-4c05-a9cc-81b45a22572e\">\n",
              "    <div class=\"colab-df-container\">\n",
              "      <div>\n",
              "<style scoped>\n",
              "    .dataframe tbody tr th:only-of-type {\n",
              "        vertical-align: middle;\n",
              "    }\n",
              "\n",
              "    .dataframe tbody tr th {\n",
              "        vertical-align: top;\n",
              "    }\n",
              "\n",
              "    .dataframe thead th {\n",
              "        text-align: right;\n",
              "    }\n",
              "</style>\n",
              "<table border=\"1\" class=\"dataframe\">\n",
              "  <thead>\n",
              "    <tr style=\"text-align: right;\">\n",
              "      <th></th>\n",
              "      <th>Case_No</th>\n",
              "      <th>A1</th>\n",
              "      <th>A2</th>\n",
              "      <th>A3</th>\n",
              "      <th>A4</th>\n",
              "      <th>A5</th>\n",
              "      <th>A6</th>\n",
              "      <th>A7</th>\n",
              "      <th>A8</th>\n",
              "      <th>A9</th>\n",
              "      <th>A10</th>\n",
              "      <th>Age_Mons</th>\n",
              "      <th>Qchat-10-Score</th>\n",
              "      <th>Sex</th>\n",
              "      <th>Ethnicity</th>\n",
              "      <th>Jaundice</th>\n",
              "      <th>Family_mem_with_ASD</th>\n",
              "      <th>who_completed_the_test</th>\n",
              "      <th>Class</th>\n",
              "    </tr>\n",
              "  </thead>\n",
              "  <tbody>\n",
              "    <tr>\n",
              "      <th>0</th>\n",
              "      <td>-1.730408</td>\n",
              "      <td>-1.136356</td>\n",
              "      <td>-0.902282</td>\n",
              "      <td>-0.818758</td>\n",
              "      <td>-1.024980</td>\n",
              "      <td>-1.050615</td>\n",
              "      <td>-1.167574</td>\n",
              "      <td>0.733952</td>\n",
              "      <td>1.085212</td>\n",
              "      <td>-0.979340</td>\n",
              "      <td>0.839941</td>\n",
              "      <td>0.016652</td>\n",
              "      <td>-0.761384</td>\n",
              "      <td>-1.517918</td>\n",
              "      <td>1.018735</td>\n",
              "      <td>1.630865</td>\n",
              "      <td>-0.438529</td>\n",
              "      <td>0.179503</td>\n",
              "      <td>-1.494366</td>\n",
              "    </tr>\n",
              "    <tr>\n",
              "      <th>1</th>\n",
              "      <td>-1.727122</td>\n",
              "      <td>0.880006</td>\n",
              "      <td>1.108300</td>\n",
              "      <td>-0.818758</td>\n",
              "      <td>-1.024980</td>\n",
              "      <td>-1.050615</td>\n",
              "      <td>0.856477</td>\n",
              "      <td>0.733952</td>\n",
              "      <td>-0.921479</td>\n",
              "      <td>-0.979340</td>\n",
              "      <td>-1.190559</td>\n",
              "      <td>1.019590</td>\n",
              "      <td>-0.417259</td>\n",
              "      <td>0.658797</td>\n",
              "      <td>-0.411656</td>\n",
              "      <td>1.630865</td>\n",
              "      <td>-0.438529</td>\n",
              "      <td>0.179503</td>\n",
              "      <td>0.669180</td>\n",
              "    </tr>\n",
              "    <tr>\n",
              "      <th>2</th>\n",
              "      <td>-1.723835</td>\n",
              "      <td>0.880006</td>\n",
              "      <td>-0.902282</td>\n",
              "      <td>-0.818758</td>\n",
              "      <td>-1.024980</td>\n",
              "      <td>-1.050615</td>\n",
              "      <td>-1.167574</td>\n",
              "      <td>0.733952</td>\n",
              "      <td>1.085212</td>\n",
              "      <td>-0.979340</td>\n",
              "      <td>0.839941</td>\n",
              "      <td>1.019590</td>\n",
              "      <td>-0.417259</td>\n",
              "      <td>0.658797</td>\n",
              "      <td>1.018735</td>\n",
              "      <td>1.630865</td>\n",
              "      <td>-0.438529</td>\n",
              "      <td>0.179503</td>\n",
              "      <td>0.669180</td>\n",
              "    </tr>\n",
              "    <tr>\n",
              "      <th>3</th>\n",
              "      <td>-1.720548</td>\n",
              "      <td>0.880006</td>\n",
              "      <td>1.108300</td>\n",
              "      <td>1.221362</td>\n",
              "      <td>0.975629</td>\n",
              "      <td>0.951823</td>\n",
              "      <td>0.856477</td>\n",
              "      <td>0.733952</td>\n",
              "      <td>1.085212</td>\n",
              "      <td>1.021095</td>\n",
              "      <td>0.839941</td>\n",
              "      <td>-0.484817</td>\n",
              "      <td>1.647488</td>\n",
              "      <td>0.658797</td>\n",
              "      <td>-2.795640</td>\n",
              "      <td>-0.613171</td>\n",
              "      <td>-0.438529</td>\n",
              "      <td>0.179503</td>\n",
              "      <td>0.669180</td>\n",
              "    </tr>\n",
              "    <tr>\n",
              "      <th>4</th>\n",
              "      <td>-1.717262</td>\n",
              "      <td>0.880006</td>\n",
              "      <td>1.108300</td>\n",
              "      <td>-0.818758</td>\n",
              "      <td>0.975629</td>\n",
              "      <td>0.951823</td>\n",
              "      <td>0.856477</td>\n",
              "      <td>0.733952</td>\n",
              "      <td>1.085212</td>\n",
              "      <td>1.021095</td>\n",
              "      <td>0.839941</td>\n",
              "      <td>-0.986286</td>\n",
              "      <td>1.303364</td>\n",
              "      <td>-1.517918</td>\n",
              "      <td>-0.411656</td>\n",
              "      <td>-0.613171</td>\n",
              "      <td>2.280351</td>\n",
              "      <td>0.179503</td>\n",
              "      <td>0.669180</td>\n",
              "    </tr>\n",
              "    <tr>\n",
              "      <th>...</th>\n",
              "      <td>...</td>\n",
              "      <td>...</td>\n",
              "      <td>...</td>\n",
              "      <td>...</td>\n",
              "      <td>...</td>\n",
              "      <td>...</td>\n",
              "      <td>...</td>\n",
              "      <td>...</td>\n",
              "      <td>...</td>\n",
              "      <td>...</td>\n",
              "      <td>...</td>\n",
              "      <td>...</td>\n",
              "      <td>...</td>\n",
              "      <td>...</td>\n",
              "      <td>...</td>\n",
              "      <td>...</td>\n",
              "      <td>...</td>\n",
              "      <td>...</td>\n",
              "      <td>...</td>\n",
              "    </tr>\n",
              "    <tr>\n",
              "      <th>1049</th>\n",
              "      <td>1.717262</td>\n",
              "      <td>-1.136356</td>\n",
              "      <td>-0.902282</td>\n",
              "      <td>-0.818758</td>\n",
              "      <td>-1.024980</td>\n",
              "      <td>-1.050615</td>\n",
              "      <td>-1.167574</td>\n",
              "      <td>-1.362486</td>\n",
              "      <td>-0.921479</td>\n",
              "      <td>-0.979340</td>\n",
              "      <td>0.839941</td>\n",
              "      <td>-0.484817</td>\n",
              "      <td>-1.449633</td>\n",
              "      <td>-1.517918</td>\n",
              "      <td>-0.411656</td>\n",
              "      <td>-0.613171</td>\n",
              "      <td>2.280351</td>\n",
              "      <td>0.179503</td>\n",
              "      <td>-1.494366</td>\n",
              "    </tr>\n",
              "    <tr>\n",
              "      <th>1050</th>\n",
              "      <td>1.720548</td>\n",
              "      <td>-1.136356</td>\n",
              "      <td>-0.902282</td>\n",
              "      <td>1.221362</td>\n",
              "      <td>0.975629</td>\n",
              "      <td>0.951823</td>\n",
              "      <td>-1.167574</td>\n",
              "      <td>0.733952</td>\n",
              "      <td>-0.921479</td>\n",
              "      <td>1.021095</td>\n",
              "      <td>-1.190559</td>\n",
              "      <td>-1.989223</td>\n",
              "      <td>-0.073135</td>\n",
              "      <td>0.658797</td>\n",
              "      <td>0.541938</td>\n",
              "      <td>1.630865</td>\n",
              "      <td>-0.438529</td>\n",
              "      <td>0.179503</td>\n",
              "      <td>0.669180</td>\n",
              "    </tr>\n",
              "    <tr>\n",
              "      <th>1051</th>\n",
              "      <td>1.723835</td>\n",
              "      <td>0.880006</td>\n",
              "      <td>-0.902282</td>\n",
              "      <td>1.221362</td>\n",
              "      <td>0.975629</td>\n",
              "      <td>0.951823</td>\n",
              "      <td>0.856477</td>\n",
              "      <td>0.733952</td>\n",
              "      <td>1.085212</td>\n",
              "      <td>1.021095</td>\n",
              "      <td>0.839941</td>\n",
              "      <td>-1.237020</td>\n",
              "      <td>1.303364</td>\n",
              "      <td>0.658797</td>\n",
              "      <td>1.018735</td>\n",
              "      <td>1.630865</td>\n",
              "      <td>-0.438529</td>\n",
              "      <td>0.179503</td>\n",
              "      <td>0.669180</td>\n",
              "    </tr>\n",
              "    <tr>\n",
              "      <th>1052</th>\n",
              "      <td>1.727122</td>\n",
              "      <td>0.880006</td>\n",
              "      <td>-0.902282</td>\n",
              "      <td>-0.818758</td>\n",
              "      <td>-1.024980</td>\n",
              "      <td>-1.050615</td>\n",
              "      <td>-1.167574</td>\n",
              "      <td>-1.362486</td>\n",
              "      <td>1.085212</td>\n",
              "      <td>-0.979340</td>\n",
              "      <td>0.839941</td>\n",
              "      <td>-1.111653</td>\n",
              "      <td>-0.761384</td>\n",
              "      <td>0.658797</td>\n",
              "      <td>-0.411656</td>\n",
              "      <td>-0.613171</td>\n",
              "      <td>2.280351</td>\n",
              "      <td>0.179503</td>\n",
              "      <td>-1.494366</td>\n",
              "    </tr>\n",
              "    <tr>\n",
              "      <th>1053</th>\n",
              "      <td>1.730408</td>\n",
              "      <td>0.880006</td>\n",
              "      <td>1.108300</td>\n",
              "      <td>-0.818758</td>\n",
              "      <td>-1.024980</td>\n",
              "      <td>0.951823</td>\n",
              "      <td>0.856477</td>\n",
              "      <td>-1.362486</td>\n",
              "      <td>1.085212</td>\n",
              "      <td>1.021095</td>\n",
              "      <td>-1.190559</td>\n",
              "      <td>-0.484817</td>\n",
              "      <td>0.270990</td>\n",
              "      <td>0.658797</td>\n",
              "      <td>0.065141</td>\n",
              "      <td>1.630865</td>\n",
              "      <td>2.280351</td>\n",
              "      <td>0.179503</td>\n",
              "      <td>0.669180</td>\n",
              "    </tr>\n",
              "  </tbody>\n",
              "</table>\n",
              "<p>1054 rows × 19 columns</p>\n",
              "</div>\n",
              "      <button class=\"colab-df-convert\" onclick=\"convertToInteractive('df-53a3ac7a-2f2e-4c05-a9cc-81b45a22572e')\"\n",
              "              title=\"Convert this dataframe to an interactive table.\"\n",
              "              style=\"display:none;\">\n",
              "        \n",
              "  <svg xmlns=\"http://www.w3.org/2000/svg\" height=\"24px\"viewBox=\"0 0 24 24\"\n",
              "       width=\"24px\">\n",
              "    <path d=\"M0 0h24v24H0V0z\" fill=\"none\"/>\n",
              "    <path d=\"M18.56 5.44l.94 2.06.94-2.06 2.06-.94-2.06-.94-.94-2.06-.94 2.06-2.06.94zm-11 1L8.5 8.5l.94-2.06 2.06-.94-2.06-.94L8.5 2.5l-.94 2.06-2.06.94zm10 10l.94 2.06.94-2.06 2.06-.94-2.06-.94-.94-2.06-.94 2.06-2.06.94z\"/><path d=\"M17.41 7.96l-1.37-1.37c-.4-.4-.92-.59-1.43-.59-.52 0-1.04.2-1.43.59L10.3 9.45l-7.72 7.72c-.78.78-.78 2.05 0 2.83L4 21.41c.39.39.9.59 1.41.59.51 0 1.02-.2 1.41-.59l7.78-7.78 2.81-2.81c.8-.78.8-2.07 0-2.86zM5.41 20L4 18.59l7.72-7.72 1.47 1.35L5.41 20z\"/>\n",
              "  </svg>\n",
              "      </button>\n",
              "      \n",
              "  <style>\n",
              "    .colab-df-container {\n",
              "      display:flex;\n",
              "      flex-wrap:wrap;\n",
              "      gap: 12px;\n",
              "    }\n",
              "\n",
              "    .colab-df-convert {\n",
              "      background-color: #E8F0FE;\n",
              "      border: none;\n",
              "      border-radius: 50%;\n",
              "      cursor: pointer;\n",
              "      display: none;\n",
              "      fill: #1967D2;\n",
              "      height: 32px;\n",
              "      padding: 0 0 0 0;\n",
              "      width: 32px;\n",
              "    }\n",
              "\n",
              "    .colab-df-convert:hover {\n",
              "      background-color: #E2EBFA;\n",
              "      box-shadow: 0px 1px 2px rgba(60, 64, 67, 0.3), 0px 1px 3px 1px rgba(60, 64, 67, 0.15);\n",
              "      fill: #174EA6;\n",
              "    }\n",
              "\n",
              "    [theme=dark] .colab-df-convert {\n",
              "      background-color: #3B4455;\n",
              "      fill: #D2E3FC;\n",
              "    }\n",
              "\n",
              "    [theme=dark] .colab-df-convert:hover {\n",
              "      background-color: #434B5C;\n",
              "      box-shadow: 0px 1px 3px 1px rgba(0, 0, 0, 0.15);\n",
              "      filter: drop-shadow(0px 1px 2px rgba(0, 0, 0, 0.3));\n",
              "      fill: #FFFFFF;\n",
              "    }\n",
              "  </style>\n",
              "\n",
              "      <script>\n",
              "        const buttonEl =\n",
              "          document.querySelector('#df-53a3ac7a-2f2e-4c05-a9cc-81b45a22572e button.colab-df-convert');\n",
              "        buttonEl.style.display =\n",
              "          google.colab.kernel.accessAllowed ? 'block' : 'none';\n",
              "\n",
              "        async function convertToInteractive(key) {\n",
              "          const element = document.querySelector('#df-53a3ac7a-2f2e-4c05-a9cc-81b45a22572e');\n",
              "          const dataTable =\n",
              "            await google.colab.kernel.invokeFunction('convertToInteractive',\n",
              "                                                     [key], {});\n",
              "          if (!dataTable) return;\n",
              "\n",
              "          const docLinkHtml = 'Like what you see? Visit the ' +\n",
              "            '<a target=\"_blank\" href=https://colab.research.google.com/notebooks/data_table.ipynb>data table notebook</a>'\n",
              "            + ' to learn more about interactive tables.';\n",
              "          element.innerHTML = '';\n",
              "          dataTable['output_type'] = 'display_data';\n",
              "          await google.colab.output.renderOutput(dataTable, element);\n",
              "          const docLink = document.createElement('div');\n",
              "          docLink.innerHTML = docLinkHtml;\n",
              "          element.appendChild(docLink);\n",
              "        }\n",
              "      </script>\n",
              "    </div>\n",
              "  </div>\n",
              "  "
            ]
          },
          "metadata": {},
          "execution_count": 23
        }
      ]
    },
    {
      "cell_type": "code",
      "source": [
        "#chz['Class/ASD']=chz['Class/ASD'].astype(int)\n",
        "chz=chz.astype(int)\n",
        "chz.head()"
      ],
      "metadata": {
        "colab": {
          "base_uri": "https://localhost:8080/",
          "height": 305
        },
        "id": "_RbOkSqOtX8E",
        "outputId": "f1c20ced-3c93-4bcb-e54a-5fa5d1d597f7"
      },
      "execution_count": null,
      "outputs": [
        {
          "output_type": "execute_result",
          "data": {
            "text/plain": [
              "   Case_No  A1  A2  A3  A4  A5  A6  A7  A8  A9  A10  Age_Mons  Qchat-10-Score  \\\n",
              "0       -1  -1   0   0  -1  -1  -1   0   1   0    0         0               0   \n",
              "1       -1   0   1   0  -1  -1   0   0   0   0   -1         1               0   \n",
              "2       -1   0   0   0  -1  -1  -1   0   1   0    0         1               0   \n",
              "3       -1   0   1   1   0   0   0   0   1   1    0         0               1   \n",
              "4       -1   0   1   0   0   0   0   0   1   1    0         0               1   \n",
              "\n",
              "   Sex  Ethnicity  Jaundice  Family_mem_with_ASD  who_completed_the_test  \\\n",
              "0   -1          1         1                    0                       0   \n",
              "1    0          0         1                    0                       0   \n",
              "2    0          1         1                    0                       0   \n",
              "3    0         -2         0                    0                       0   \n",
              "4   -1          0         0                    2                       0   \n",
              "\n",
              "   Class  \n",
              "0     -1  \n",
              "1      0  \n",
              "2      0  \n",
              "3      0  \n",
              "4      0  "
            ],
            "text/html": [
              "\n",
              "  <div id=\"df-037f1ea6-d404-4111-bc7f-4bbb6041b49e\">\n",
              "    <div class=\"colab-df-container\">\n",
              "      <div>\n",
              "<style scoped>\n",
              "    .dataframe tbody tr th:only-of-type {\n",
              "        vertical-align: middle;\n",
              "    }\n",
              "\n",
              "    .dataframe tbody tr th {\n",
              "        vertical-align: top;\n",
              "    }\n",
              "\n",
              "    .dataframe thead th {\n",
              "        text-align: right;\n",
              "    }\n",
              "</style>\n",
              "<table border=\"1\" class=\"dataframe\">\n",
              "  <thead>\n",
              "    <tr style=\"text-align: right;\">\n",
              "      <th></th>\n",
              "      <th>Case_No</th>\n",
              "      <th>A1</th>\n",
              "      <th>A2</th>\n",
              "      <th>A3</th>\n",
              "      <th>A4</th>\n",
              "      <th>A5</th>\n",
              "      <th>A6</th>\n",
              "      <th>A7</th>\n",
              "      <th>A8</th>\n",
              "      <th>A9</th>\n",
              "      <th>A10</th>\n",
              "      <th>Age_Mons</th>\n",
              "      <th>Qchat-10-Score</th>\n",
              "      <th>Sex</th>\n",
              "      <th>Ethnicity</th>\n",
              "      <th>Jaundice</th>\n",
              "      <th>Family_mem_with_ASD</th>\n",
              "      <th>who_completed_the_test</th>\n",
              "      <th>Class</th>\n",
              "    </tr>\n",
              "  </thead>\n",
              "  <tbody>\n",
              "    <tr>\n",
              "      <th>0</th>\n",
              "      <td>-1</td>\n",
              "      <td>-1</td>\n",
              "      <td>0</td>\n",
              "      <td>0</td>\n",
              "      <td>-1</td>\n",
              "      <td>-1</td>\n",
              "      <td>-1</td>\n",
              "      <td>0</td>\n",
              "      <td>1</td>\n",
              "      <td>0</td>\n",
              "      <td>0</td>\n",
              "      <td>0</td>\n",
              "      <td>0</td>\n",
              "      <td>-1</td>\n",
              "      <td>1</td>\n",
              "      <td>1</td>\n",
              "      <td>0</td>\n",
              "      <td>0</td>\n",
              "      <td>-1</td>\n",
              "    </tr>\n",
              "    <tr>\n",
              "      <th>1</th>\n",
              "      <td>-1</td>\n",
              "      <td>0</td>\n",
              "      <td>1</td>\n",
              "      <td>0</td>\n",
              "      <td>-1</td>\n",
              "      <td>-1</td>\n",
              "      <td>0</td>\n",
              "      <td>0</td>\n",
              "      <td>0</td>\n",
              "      <td>0</td>\n",
              "      <td>-1</td>\n",
              "      <td>1</td>\n",
              "      <td>0</td>\n",
              "      <td>0</td>\n",
              "      <td>0</td>\n",
              "      <td>1</td>\n",
              "      <td>0</td>\n",
              "      <td>0</td>\n",
              "      <td>0</td>\n",
              "    </tr>\n",
              "    <tr>\n",
              "      <th>2</th>\n",
              "      <td>-1</td>\n",
              "      <td>0</td>\n",
              "      <td>0</td>\n",
              "      <td>0</td>\n",
              "      <td>-1</td>\n",
              "      <td>-1</td>\n",
              "      <td>-1</td>\n",
              "      <td>0</td>\n",
              "      <td>1</td>\n",
              "      <td>0</td>\n",
              "      <td>0</td>\n",
              "      <td>1</td>\n",
              "      <td>0</td>\n",
              "      <td>0</td>\n",
              "      <td>1</td>\n",
              "      <td>1</td>\n",
              "      <td>0</td>\n",
              "      <td>0</td>\n",
              "      <td>0</td>\n",
              "    </tr>\n",
              "    <tr>\n",
              "      <th>3</th>\n",
              "      <td>-1</td>\n",
              "      <td>0</td>\n",
              "      <td>1</td>\n",
              "      <td>1</td>\n",
              "      <td>0</td>\n",
              "      <td>0</td>\n",
              "      <td>0</td>\n",
              "      <td>0</td>\n",
              "      <td>1</td>\n",
              "      <td>1</td>\n",
              "      <td>0</td>\n",
              "      <td>0</td>\n",
              "      <td>1</td>\n",
              "      <td>0</td>\n",
              "      <td>-2</td>\n",
              "      <td>0</td>\n",
              "      <td>0</td>\n",
              "      <td>0</td>\n",
              "      <td>0</td>\n",
              "    </tr>\n",
              "    <tr>\n",
              "      <th>4</th>\n",
              "      <td>-1</td>\n",
              "      <td>0</td>\n",
              "      <td>1</td>\n",
              "      <td>0</td>\n",
              "      <td>0</td>\n",
              "      <td>0</td>\n",
              "      <td>0</td>\n",
              "      <td>0</td>\n",
              "      <td>1</td>\n",
              "      <td>1</td>\n",
              "      <td>0</td>\n",
              "      <td>0</td>\n",
              "      <td>1</td>\n",
              "      <td>-1</td>\n",
              "      <td>0</td>\n",
              "      <td>0</td>\n",
              "      <td>2</td>\n",
              "      <td>0</td>\n",
              "      <td>0</td>\n",
              "    </tr>\n",
              "  </tbody>\n",
              "</table>\n",
              "</div>\n",
              "      <button class=\"colab-df-convert\" onclick=\"convertToInteractive('df-037f1ea6-d404-4111-bc7f-4bbb6041b49e')\"\n",
              "              title=\"Convert this dataframe to an interactive table.\"\n",
              "              style=\"display:none;\">\n",
              "        \n",
              "  <svg xmlns=\"http://www.w3.org/2000/svg\" height=\"24px\"viewBox=\"0 0 24 24\"\n",
              "       width=\"24px\">\n",
              "    <path d=\"M0 0h24v24H0V0z\" fill=\"none\"/>\n",
              "    <path d=\"M18.56 5.44l.94 2.06.94-2.06 2.06-.94-2.06-.94-.94-2.06-.94 2.06-2.06.94zm-11 1L8.5 8.5l.94-2.06 2.06-.94-2.06-.94L8.5 2.5l-.94 2.06-2.06.94zm10 10l.94 2.06.94-2.06 2.06-.94-2.06-.94-.94-2.06-.94 2.06-2.06.94z\"/><path d=\"M17.41 7.96l-1.37-1.37c-.4-.4-.92-.59-1.43-.59-.52 0-1.04.2-1.43.59L10.3 9.45l-7.72 7.72c-.78.78-.78 2.05 0 2.83L4 21.41c.39.39.9.59 1.41.59.51 0 1.02-.2 1.41-.59l7.78-7.78 2.81-2.81c.8-.78.8-2.07 0-2.86zM5.41 20L4 18.59l7.72-7.72 1.47 1.35L5.41 20z\"/>\n",
              "  </svg>\n",
              "      </button>\n",
              "      \n",
              "  <style>\n",
              "    .colab-df-container {\n",
              "      display:flex;\n",
              "      flex-wrap:wrap;\n",
              "      gap: 12px;\n",
              "    }\n",
              "\n",
              "    .colab-df-convert {\n",
              "      background-color: #E8F0FE;\n",
              "      border: none;\n",
              "      border-radius: 50%;\n",
              "      cursor: pointer;\n",
              "      display: none;\n",
              "      fill: #1967D2;\n",
              "      height: 32px;\n",
              "      padding: 0 0 0 0;\n",
              "      width: 32px;\n",
              "    }\n",
              "\n",
              "    .colab-df-convert:hover {\n",
              "      background-color: #E2EBFA;\n",
              "      box-shadow: 0px 1px 2px rgba(60, 64, 67, 0.3), 0px 1px 3px 1px rgba(60, 64, 67, 0.15);\n",
              "      fill: #174EA6;\n",
              "    }\n",
              "\n",
              "    [theme=dark] .colab-df-convert {\n",
              "      background-color: #3B4455;\n",
              "      fill: #D2E3FC;\n",
              "    }\n",
              "\n",
              "    [theme=dark] .colab-df-convert:hover {\n",
              "      background-color: #434B5C;\n",
              "      box-shadow: 0px 1px 3px 1px rgba(0, 0, 0, 0.15);\n",
              "      filter: drop-shadow(0px 1px 2px rgba(0, 0, 0, 0.3));\n",
              "      fill: #FFFFFF;\n",
              "    }\n",
              "  </style>\n",
              "\n",
              "      <script>\n",
              "        const buttonEl =\n",
              "          document.querySelector('#df-037f1ea6-d404-4111-bc7f-4bbb6041b49e button.colab-df-convert');\n",
              "        buttonEl.style.display =\n",
              "          google.colab.kernel.accessAllowed ? 'block' : 'none';\n",
              "\n",
              "        async function convertToInteractive(key) {\n",
              "          const element = document.querySelector('#df-037f1ea6-d404-4111-bc7f-4bbb6041b49e');\n",
              "          const dataTable =\n",
              "            await google.colab.kernel.invokeFunction('convertToInteractive',\n",
              "                                                     [key], {});\n",
              "          if (!dataTable) return;\n",
              "\n",
              "          const docLinkHtml = 'Like what you see? Visit the ' +\n",
              "            '<a target=\"_blank\" href=https://colab.research.google.com/notebooks/data_table.ipynb>data table notebook</a>'\n",
              "            + ' to learn more about interactive tables.';\n",
              "          element.innerHTML = '';\n",
              "          dataTable['output_type'] = 'display_data';\n",
              "          await google.colab.output.renderOutput(dataTable, element);\n",
              "          const docLink = document.createElement('div');\n",
              "          docLink.innerHTML = docLinkHtml;\n",
              "          element.appendChild(docLink);\n",
              "        }\n",
              "      </script>\n",
              "    </div>\n",
              "  </div>\n",
              "  "
            ]
          },
          "metadata": {},
          "execution_count": 24
        }
      ]
    },
    {
      "cell_type": "code",
      "source": [
        "import numpy as nm\n",
        "import matplotlib.pyplot as mtp\n",
        "import pandas as pd\n",
        "#Extracting Independent and dependent Variable\n",
        "x = chz.drop('Class', axis=1)\n",
        "y = chz['Class']\n",
        "\n"
      ],
      "metadata": {
        "id": "8yfGbVnss1dl"
      },
      "execution_count": null,
      "outputs": []
    },
    {
      "cell_type": "code",
      "source": [
        "from sklearn.model_selection import train_test_split\n",
        "x_train, x_test, y_train, y_test= train_test_split(x, y, test_size= 0.25, random_state=0)\n"
      ],
      "metadata": {
        "id": "Yez-BNkTKJuH"
      },
      "execution_count": null,
      "outputs": []
    },
    {
      "cell_type": "code",
      "source": [
        "#DataFrame for Models Accuracy Score\n",
        "model_df = pd.DataFrame(columns=[\"Model Name\",\"Accuracy Score\"])"
      ],
      "metadata": {
        "id": "BSwwUEccLhb1"
      },
      "execution_count": null,
      "outputs": []
    },
    {
      "cell_type": "code",
      "source": [
        "from sklearn.svm import SVC # \"Support vector classifier\"\n",
        "classifier = SVC(kernel='rbf', random_state=0)\n",
        "classifier.fit(x_train, y_train)"
      ],
      "metadata": {
        "colab": {
          "base_uri": "https://localhost:8080/"
        },
        "id": "nh-xjch0tFFC",
        "outputId": "c9371344-224a-474f-9a63-bcdbeed5a98c"
      },
      "execution_count": null,
      "outputs": [
        {
          "output_type": "execute_result",
          "data": {
            "text/plain": [
              "SVC(random_state=0)"
            ]
          },
          "metadata": {},
          "execution_count": 56
        }
      ]
    },
    {
      "cell_type": "code",
      "source": [
        "y_pred= classifier.predict(x_test)"
      ],
      "metadata": {
        "id": "Y0IXhbl-tN2J"
      },
      "execution_count": null,
      "outputs": []
    },
    {
      "cell_type": "code",
      "source": [
        "#Import scikit-learn metrics module for accuracy calculation\n",
        "from sklearn import metrics\n",
        "\n",
        "# Model Accuracy: how often is the classifier correct?\n",
        "print(\"Accuracy:\",metrics.accuracy_score(y_test, y_pred)*100)"
      ],
      "metadata": {
        "colab": {
          "base_uri": "https://localhost:8080/"
        },
        "id": "M9qYvUc6tjtJ",
        "outputId": "0104fa6e-e2e1-4790-96dc-383a01c5f562"
      },
      "execution_count": null,
      "outputs": [
        {
          "output_type": "stream",
          "name": "stdout",
          "text": [
            "Accuracy: 96.96969696969697\n"
          ]
        }
      ]
    },
    {
      "cell_type": "code",
      "source": [
        " from sklearn.metrics import confusion_matrix\n",
        "cf_matrix = confusion_matrix(y_test, y_pred)\n",
        "ax = sns.heatmap(cf_matrix, annot=True, cmap='Blues')\n",
        "\n",
        "ax.set_title(' Confusion Matrix with labels\\n\\n');\n",
        "ax.set_xlabel('\\nPredicted Values')\n",
        "ax.set_ylabel('Actual Values ');\n",
        "\n",
        "## Ticket labels - List must be in alphabetical order\n",
        "ax.xaxis.set_ticklabels(['False','True'])\n",
        "ax.yaxis.set_ticklabels(['False','True'])\n",
        "\n",
        "## Display the visualization of the Confusion Matrix.\n",
        "plt.show()\n",
        "sensitivity1 = cf_matrix[0,0]/(cf_matrix[0,0]+cf_matrix[0,1])\n",
        "print('Sensitivity : ', sensitivity1 )\n",
        "\n",
        "specificity1 = cf_matrix[1,1]/(cf_matrix[1,0]+cf_matrix[1,1])\n",
        "print('Specificity : ', specificity1)\n"
      ],
      "metadata": {
        "colab": {
          "base_uri": "https://localhost:8080/",
          "height": 372
        },
        "id": "2QQC1JrBDjqu",
        "outputId": "0e114a94-28d2-447f-e272-0769c13fdc07"
      },
      "execution_count": null,
      "outputs": [
        {
          "output_type": "display_data",
          "data": {
            "text/plain": [
              "<Figure size 432x288 with 2 Axes>"
            ],
            "image/png": "[encoded data removed]"
          },
          "metadata": {
            "needs_background": "light"
          }
        },
        {
          "output_type": "stream",
          "name": "stdout",
          "text": [
            "Sensitivity :  0.918918918918919\n",
            "Specificity :  0.9894736842105263\n"
          ]
        }
      ]
    },
    {
      "cell_type": "code",
      "source": [
        "new_row = {\"Model Name\":\"SVM\", \"Accuracy Score\":metrics.accuracy_score(y_test, y_pred)*100}\n",
        "model_df = model_df.append(new_row, ignore_index=True)"
      ],
      "metadata": {
        "id": "liSjJiUPLojM"
      },
      "execution_count": null,
      "outputs": []
    },
    {
      "cell_type": "code",
      "source": [
        "from sklearn.ensemble import AdaBoostClassifier\n",
        "abc = AdaBoostClassifier(n_estimators=10,\n",
        "                         learning_rate=1)\n",
        "# Train Adaboost Classifer\n",
        "model = abc.fit(x_train, y_train)\n",
        "\n",
        "#Predict the response for test dataset\n",
        "y_pred = model.predict(x_test)\n",
        "print(\"Accuracy:\",metrics.accuracy_score(y_test, y_pred)*100)"
      ],
      "metadata": {
        "id": "CxmhtNJvvpFx",
        "colab": {
          "base_uri": "https://localhost:8080/"
        },
        "outputId": "77e7cdd2-3c6e-4ded-897a-a212bdf87f19"
      },
      "execution_count": null,
      "outputs": [
        {
          "output_type": "stream",
          "name": "stdout",
          "text": [
            "Accuracy: 97.72727272727273\n"
          ]
        }
      ]
    },
    {
      "cell_type": "code",
      "source": [
        "from sklearn.metrics import confusion_matrix\n",
        "cf_matrix = confusion_matrix(y_test, y_pred)\n",
        "ax = sns.heatmap(cf_matrix, annot=True, cmap='Blues')\n",
        "\n",
        "ax.set_title(' Confusion Matrix with labels\\n\\n');\n",
        "ax.set_xlabel('\\nPredicted Values')\n",
        "ax.set_ylabel('Actual Values ');\n",
        "\n",
        "## Ticket labels - List must be in alphabetical order\n",
        "ax.xaxis.set_ticklabels(['False','True'])\n",
        "ax.yaxis.set_ticklabels(['False','True'])\n",
        "\n",
        "## Display the visualization of the Confusion Matrix.\n",
        "plt.show()\n",
        "sensitivity1 = cf_matrix[0,0]/(cf_matrix[0,0]+cf_matrix[0,1])\n",
        "print('Sensitivity : ', sensitivity1 )\n",
        "\n",
        "specificity1 = cf_matrix[1,1]/(cf_matrix[1,0]+cf_matrix[1,1])\n",
        "print('Specificity : ', specificity1)\n"
      ],
      "metadata": {
        "colab": {
          "base_uri": "https://localhost:8080/",
          "height": 372
        },
        "id": "dF-3wjYLIQ-z",
        "outputId": "e537c799-c663-453c-ea86-2f5602b77398"
      },
      "execution_count": null,
      "outputs": [
        {
          "output_type": "display_data",
          "data": {
            "text/plain": [
              "<Figure size 432x288 with 2 Axes>"
            ],
            "image/png": "[encoded data removed]"
          },
          "metadata": {
            "needs_background": "light"
          }
        },
        {
          "output_type": "stream",
          "name": "stdout",
          "text": [
            "Sensitivity :  0.9324324324324325\n",
            "Specificity :  0.9947368421052631\n"
          ]
        }
      ]
    },
    {
      "cell_type": "code",
      "source": [
        "new_row = {\"Model Name\":\"Adaboost Classifier\", \"Accuracy Score\":metrics.accuracy_score(y_test, y_pred)*100}\n",
        "model_df = model_df.append(new_row, ignore_index=True)"
      ],
      "metadata": {
        "id": "2uZxbz-mLthd"
      },
      "execution_count": null,
      "outputs": []
    },
    {
      "cell_type": "code",
      "source": [
        "from sklearn.tree import DecisionTreeClassifier # Import Decision Tree Classifier"
      ],
      "metadata": {
        "id": "GOY3Jd0MmEM_"
      },
      "execution_count": null,
      "outputs": []
    },
    {
      "cell_type": "code",
      "source": [
        "# Create Decision Tree classifer object\n",
        "clf = DecisionTreeClassifier()\n",
        "\n",
        "# Train Decision Tree Classifer\n",
        "clf = clf.fit(x_train,y_train)\n",
        "\n",
        "#Predict the response for test dataset\n",
        "y_pred = clf.predict(x_test)\n"
      ],
      "metadata": {
        "id": "u3Vu2zOPiHn5"
      },
      "execution_count": null,
      "outputs": []
    },
    {
      "cell_type": "code",
      "source": [
        "# Model Accuracy, how often is the classifier correct?\n",
        "print(\"Accuracy:\",metrics.accuracy_score(y_test, y_pred)*100)\n"
      ],
      "metadata": {
        "colab": {
          "base_uri": "https://localhost:8080/"
        },
        "id": "8X-9g78Amahk",
        "outputId": "ac07f8d9-de46-4adf-b0f4-faf77b7d90cd"
      },
      "execution_count": null,
      "outputs": [
        {
          "output_type": "stream",
          "name": "stdout",
          "text": [
            "Accuracy: 93.56060606060606\n"
          ]
        }
      ]
    },
    {
      "cell_type": "code",
      "source": [
        "from sklearn.metrics import confusion_matrix\n",
        "cf_matrix = confusion_matrix(y_test, y_pred)\n",
        "ax = sns.heatmap(cf_matrix, annot=True, cmap='Blues')\n",
        "\n",
        "ax.set_title(' Confusion Matrix with labels\\n\\n');\n",
        "ax.set_xlabel('\\nPredicted Values')\n",
        "ax.set_ylabel('Actual Values ');\n",
        "\n",
        "## Ticket labels - List must be in alphabetical order\n",
        "ax.xaxis.set_ticklabels(['False','True'])\n",
        "ax.yaxis.set_ticklabels(['False','True'])\n",
        "\n",
        "## Display the visualization of the Confusion Matrix.\n",
        "plt.show()\n",
        "sensitivity1 = cf_matrix[0,0]/(cf_matrix[0,0]+cf_matrix[0,1])\n",
        "print('Sensitivity : ', sensitivity1 )\n",
        "\n",
        "specificity1 = cf_matrix[1,1]/(cf_matrix[1,0]+cf_matrix[1,1])\n",
        "print('Specificity : ', specificity1)\n"
      ],
      "metadata": {
        "colab": {
          "base_uri": "https://localhost:8080/",
          "height": 372
        },
        "id": "0EmjAQL-IqQD",
        "outputId": "ff771b94-7b9e-4117-cfe9-6ee07f22c4db"
      },
      "execution_count": null,
      "outputs": [
        {
          "output_type": "display_data",
          "data": {
            "text/plain": [
              "<Figure size 432x288 with 2 Axes>"
            ],
            "image/png": "[encoded data removed]"
          },
          "metadata": {
            "needs_background": "light"
          }
        },
        {
          "output_type": "stream",
          "name": "stdout",
          "text": [
            "Sensitivity :  0.9459459459459459\n",
            "Specificity :  0.9315789473684211\n"
          ]
        }
      ]
    },
    {
      "cell_type": "code",
      "source": [
        "new_row = {\"Model Name\":\"Decision Tree Classifier\", \"Accuracy Score\":metrics.accuracy_score(y_test, y_pred)*100}\n",
        "model_df = model_df.append(new_row, ignore_index=True)"
      ],
      "metadata": {
        "id": "4msuQOSILyS0"
      },
      "execution_count": null,
      "outputs": []
    },
    {
      "cell_type": "code",
      "source": [
        "from numpy import mean\n",
        "from numpy import std\n",
        "from sklearn.datasets import make_classification\n",
        "from sklearn.model_selection import cross_val_score\n",
        "from sklearn.model_selection import RepeatedStratifiedKFold\n",
        "from sklearn.discriminant_analysis import LinearDiscriminantAnalysis"
      ],
      "metadata": {
        "id": "YVEcUAaZElIX"
      },
      "execution_count": null,
      "outputs": []
    },
    {
      "cell_type": "code",
      "source": [
        "model = LinearDiscriminantAnalysis()\n",
        "# define model evaluation method\n",
        "cv = RepeatedStratifiedKFold(n_splits=10, n_repeats=3, random_state=1)\n",
        "# evaluate model\n",
        "scores = cross_val_score(model, x, y, scoring='accuracy', cv=cv, n_jobs=-1)\n",
        "# summarize result\n",
        "print(' Accuracy is: %.3f ' % (mean(scores)*100))"
      ],
      "metadata": {
        "id": "Ux79PQw5tecx",
        "colab": {
          "base_uri": "https://localhost:8080/"
        },
        "outputId": "64efac16-f251-48b4-cf65-9177ae2b60fe"
      },
      "execution_count": null,
      "outputs": [
        {
          "output_type": "stream",
          "name": "stdout",
          "text": [
            " Accuracy is: 94.846 \n"
          ]
        }
      ]
    },
    {
      "cell_type": "code",
      "source": [
        "from sklearn.metrics import confusion_matrix\n",
        "cf_matrix = confusion_matrix(y_test, y_pred)\n",
        "ax = sns.heatmap(cf_matrix, annot=True, cmap='Blues')\n",
        "\n",
        "ax.set_title(' Confusion Matrix with labels\\n\\n');\n",
        "ax.set_xlabel('\\nPredicted Values')\n",
        "ax.set_ylabel('Actual Values ');\n",
        "\n",
        "## Ticket labels - List must be in alphabetical order\n",
        "ax.xaxis.set_ticklabels(['False','True'])\n",
        "ax.yaxis.set_ticklabels(['False','True'])\n",
        "\n",
        "## Display the visualization of the Confusion Matrix.\n",
        "plt.show()\n",
        "sensitivity1 = cf_matrix[0,0]/(cf_matrix[0,0]+cf_matrix[0,1])\n",
        "print('Sensitivity : ', sensitivity1 )\n",
        "\n",
        "specificity1 = cf_matrix[1,1]/(cf_matrix[1,0]+cf_matrix[1,1])\n",
        "print('Specificity : ', specificity1)\n"
      ],
      "metadata": {
        "colab": {
          "base_uri": "https://localhost:8080/",
          "height": 372
        },
        "id": "m-lP-v1_IxSJ",
        "outputId": "a1056c70-3b1d-4abe-a891-f602cb3c67a5"
      },
      "execution_count": null,
      "outputs": [
        {
          "output_type": "display_data",
          "data": {
            "text/plain": [
              "<Figure size 432x288 with 2 Axes>"
            ],
            "image/png": "[encoded data removed]"
          },
          "metadata": {
            "needs_background": "light"
          }
        },
        {
          "output_type": "stream",
          "name": "stdout",
          "text": [
            "Sensitivity :  0.9459459459459459\n",
            "Specificity :  0.9315789473684211\n"
          ]
        }
      ]
    },
    {
      "cell_type": "code",
      "source": [
        "new_row = {\"Model Name\":\"Linear Discriminant Analysis\", \"Accuracy Score\":metrics.accuracy_score(y_test, y_pred)*100}\n",
        "model_df = model_df.append(new_row, ignore_index=True)"
      ],
      "metadata": {
        "id": "XKRpxnLLTztd"
      },
      "execution_count": null,
      "outputs": []
    },
    {
      "cell_type": "code",
      "source": [
        "import numpy as np"
      ],
      "metadata": {
        "id": "dLqdm18QL8eU"
      },
      "execution_count": null,
      "outputs": []
    },
    {
      "cell_type": "code",
      "source": [
        "seed=7\n",
        "np.random.seed(seed)"
      ],
      "metadata": {
        "id": "CJ4sEU4DL8bZ"
      },
      "execution_count": null,
      "outputs": []
    },
    {
      "cell_type": "code",
      "source": [
        "\n",
        "from sklearn.ensemble import RandomForestClassifier\n",
        "\n",
        "rfc = RandomForestClassifier(n_estimators=3,\n",
        "                             max_depth=2,\n",
        "                             random_state=seed)"
      ],
      "metadata": {
        "id": "hVauB8I-L8Yg"
      },
      "execution_count": null,
      "outputs": []
    },
    {
      "cell_type": "code",
      "source": [
        "\n",
        "rfc.fit(x_train, y_train)\n",
        "# Predict the test set labels\n",
        "y_pred = rfc.predict(x_test)"
      ],
      "metadata": {
        "id": "I-cKD8cwMC1V"
      },
      "execution_count": null,
      "outputs": []
    },
    {
      "cell_type": "code",
      "source": [
        "print(\"Accuracy:\",metrics.accuracy_score(y_test, y_pred)*100)\n"
      ],
      "metadata": {
        "colab": {
          "base_uri": "https://localhost:8080/"
        },
        "id": "HNCbzLK1srBE",
        "outputId": "c32bd120-c545-4976-baca-c68f5d3ab880"
      },
      "execution_count": null,
      "outputs": [
        {
          "output_type": "stream",
          "name": "stdout",
          "text": [
            "Accuracy: 88.63636363636364\n"
          ]
        }
      ]
    },
    {
      "cell_type": "code",
      "source": [
        "new_row = {\"Model Name\":\"Random Forest \", \"Accuracy Score\":metrics.accuracy_score(y_test, y_pred)*100}\n",
        "model_df = model_df.append(new_row, ignore_index=True)"
      ],
      "metadata": {
        "id": "K3LoCDU9MKrE"
      },
      "execution_count": null,
      "outputs": []
    },
    {
      "cell_type": "code",
      "source": [
        "from sklearn.metrics import confusion_matrix\n",
        "cf_matrix = confusion_matrix(y_test, y_pred)\n",
        "ax = sns.heatmap(cf_matrix, annot=True, cmap='Blues')\n",
        "\n",
        "ax.set_title(' Confusion Matrix with labels\\n\\n');\n",
        "ax.set_xlabel('\\nPredicted Values')\n",
        "ax.set_ylabel('Actual Values ');\n",
        "\n",
        "## Ticket labels - List must be in alphabetical order\n",
        "ax.xaxis.set_ticklabels(['False','True'])\n",
        "ax.yaxis.set_ticklabels(['False','True'])\n",
        "\n",
        "## Display the visualization of the Confusion Matrix.\n",
        "plt.show()\n",
        "sensitivity1 = cf_matrix[0,0]/(cf_matrix[0,0]+cf_matrix[0,1])\n",
        "print('Sensitivity : ', sensitivity1 )\n",
        "\n",
        "specificity1 = cf_matrix[1,1]/(cf_matrix[1,0]+cf_matrix[1,1])\n",
        "print('Specificity : ', specificity1)"
      ],
      "metadata": {
        "colab": {
          "base_uri": "https://localhost:8080/",
          "height": 372
        },
        "id": "d5SclsRXMFUM",
        "outputId": "c0bbfbbe-c89d-4b9f-c97b-b5b01cc711a7"
      },
      "execution_count": null,
      "outputs": [
        {
          "output_type": "display_data",
          "data": {
            "text/plain": [
              "<Figure size 432x288 with 2 Axes>"
            ],
            "image/png": "[encoded data removed]"
          },
          "metadata": {
            "needs_background": "light"
          }
        },
        {
          "output_type": "stream",
          "name": "stdout",
          "text": [
            "Sensitivity :  0.6621621621621622\n",
            "Specificity :  0.9736842105263158\n"
          ]
        }
      ]
    },
    {
      "cell_type": "code",
      "source": [
        "plt.figure(figsize=(9,6))\n",
        "plt.title(\"ALGORITHM COMPARISON\")\n",
        "sns.barplot(x=model_df[\"Model Name\"], y=model_df[\"Accuracy Score\"])\n",
        "plt.xticks(rotation=30)\n",
        "plt.show()"
      ],
      "metadata": {
        "colab": {
          "base_uri": "https://localhost:8080/",
          "height": 474
        },
        "id": "MtWooq8kMYmH",
        "outputId": "2f8433f2-08f5-4997-bea2-952606cd18a6"
      },
      "execution_count": null,
      "outputs": [
        {
          "output_type": "display_data",
          "data": {
            "text/plain": [
              "<Figure size 648x432 with 1 Axes>"
            ],
            "image/png": "[encoded data removed]"
          },
          "metadata": {
            "needs_background": "light"
          }
        }
      ]
    },
    {
      "cell_type": "code",
      "source": [],
      "metadata": {
        "id": "War-iHmZNW53"
      },
      "execution_count": null,
      "outputs": []
    }
  ],
  "metadata": {
    "colab": {
      "provenance": []
    },
    "kernelspec": {
      "display_name": "Python 3",
      "name": "python3"
    },
    "language_info": {
      "name": "python"
    }
  },
  "nbformat": 4,
  "nbformat_minor": 0
}